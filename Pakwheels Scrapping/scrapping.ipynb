{
 "cells": [
  {
   "cell_type": "code",
   "execution_count": 1,
   "metadata": {},
   "outputs": [],
   "source": [
    "import pandas as pd\n",
    "from bs4 import BeautifulSoup\n",
    "import requests\n",
    "import matplotlib.pyplot as plt"
   ]
  },
  {
   "cell_type": "code",
   "execution_count": 2,
   "metadata": {},
   "outputs": [
    {
     "name": "stdout",
     "output_type": "stream",
     "text": [
      "Skipping invalid price: Call\n",
      "Skipping invalid price: Call\n",
      "Skipping invalid price: Call\n",
      "Skipping invalid price: Call\n",
      "Skipping invalid price: Call\n",
      "Skipping invalid price: Call\n",
      "Skipping invalid price: Call\n",
      "Skipping invalid price: Call\n",
      "Skipping invalid price: Call\n",
      "Skipping invalid price: Call\n",
      "Skipping invalid price: Call\n",
      "Skipping invalid price: Call\n"
     ]
    }
   ],
   "source": [
    "headers = {\n",
    "    'User-Agent': 'Mozilla/5.0 (Windows NT 10.0; Win64; x64) AppleWebKit/537.36 (KHTML, like Gecko) Chrome/101.0.4951.67 Safari/537.36'\n",
    "}\n",
    "\n",
    "num_pages = 20  # Number of pages you want to scrape\n",
    "base_url = r'https://www.pakwheels.com/used-cars/search'\n",
    "car_names = []\n",
    "prices = []\n",
    "\n",
    "# Scraping data from multiple pages\n",
    "for page in range(1, num_pages + 1):\n",
    "    url = f'{base_url}/-/?page={page}'\n",
    "    response = requests.get(url, headers=headers)\n",
    "    soup = BeautifulSoup(response.text, 'html.parser')\n",
    "\n",
    "    car_names.extend([car.text for car in soup.find_all('a', {'class': 'car-name ad-detail-path'})])\n",
    "    prices.extend([price.text for price in soup.find_all('div', {'class': 'price-details generic-dark-grey'})])\n",
    "\n",
    "# Processing data and saving it to Excel\n",
    "data = []\n",
    "for i in range(len(car_names)):\n",
    "    car_lst = car_names[i].replace('for Sale', '').strip()\n",
    "    price_text = prices[i].replace('lacs', '').strip().replace('crore', '').replace('PKR', '').replace('\\n', '').replace(',', '')\n",
    "    try:\n",
    "        if price_text.endswith('Cr'):\n",
    "            price = float(price_text.replace('Cr', '')) * 10000000\n",
    "        else:\n",
    "            price = float(price_text) * 100000\n",
    "        data.append([i + 1, car_lst, price])\n",
    "    except ValueError:\n",
    "        # Handle the case where price_text is not a valid float (e.g., 'Call')\n",
    "        print(f\"Skipping invalid price: {price_text}\")"
   ]
  },
  {
   "cell_type": "code",
   "execution_count": 3,
   "metadata": {},
   "outputs": [],
   "source": [
    "df = pd.DataFrame(data=data, columns=['S.NO#', 'CARS', 'PRICE IN PKR'])\n"
   ]
  }
 ],
 "metadata": {
  "kernelspec": {
   "display_name": "Python 3",
   "language": "python",
   "name": "python3"
  },
  "language_info": {
   "codemirror_mode": {
    "name": "ipython",
    "version": 3
   },
   "file_extension": ".py",
   "mimetype": "text/x-python",
   "name": "python",
   "nbconvert_exporter": "python",
   "pygments_lexer": "ipython3",
   "version": "3.11.5"
  }
 },
 "nbformat": 4,
 "nbformat_minor": 2
}
